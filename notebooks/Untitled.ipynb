{
 "cells": [
  {
   "cell_type": "markdown",
   "metadata": {},
   "source": [
    "Notebook to test parsing GENCODE GTF to table for database loading"
   ]
  },
  {
   "cell_type": "code",
   "execution_count": 3,
   "metadata": {
    "collapsed": true
   },
   "outputs": [],
   "source": [
    "import CGAT.GTF as GTF\n",
    "import CGAT.IOTools as IOTools"
   ]
  },
  {
   "cell_type": "code",
   "execution_count": 32,
   "metadata": {
    "collapsed": true
   },
   "outputs": [],
   "source": [
    "#test.gtf = only 'transcript' entries\n",
    "infile = '../../run/annotations/test.gtf'\n",
    "outfile = '../../run/annotations/test.tsv'\n",
    "outfile2 = '../../run/annotations/test2.tsv'"
   ]
  },
  {
   "cell_type": "code",
   "execution_count": 50,
   "metadata": {
    "collapsed": false
   },
   "outputs": [],
   "source": [
    "outf = IOTools.openFile(outfile, 'w')\n",
    "outf2 = IOTools.openFile(outfile2, 'w')\n",
    "    \n",
    "table1_columns = ['transcript_name', 'transcript_status', 'transcript_support_level',\n",
    "                  'transcript_type', 'protein_id']\n",
    "table1_key = 'transcript_id'\n",
    "outf.write('%s\\t%s\\n' % (table1_key, '\\t'.join(table1_columns)))\n",
    "\n",
    "table2_key = 'transcript_id'\n",
    "outf2.write('%s\\t%s\\n' % (table1_key, 'tag'))\n",
    "\n",
    "\n",
    "gtfs = GTF.track_iterator(IOTools.openFile(infile), repeated_attributes=True)\n",
    "\n",
    "for gtf in gtfs:\n",
    "\n",
    "    attr_dict = gtf.asDict()\n",
    "    try:\n",
    "        for tag in attr_dict['tag']:\n",
    "            outf2.write('%s\\t%s\\n' % (gtf.transcript_id, tag))\n",
    "    except:\n",
    "        print(attr_dict)zz\n",
    "\n",
    "outf.close()\n",
    "outf2.close()"
   ]
  }
 ],
 "metadata": {
  "kernelspec": {
   "display_name": "Python [conda root]",
   "language": "python",
   "name": "conda-root-py"
  },
  "language_info": {
   "codemirror_mode": {
    "name": "ipython",
    "version": 3
   },
   "file_extension": ".py",
   "mimetype": "text/x-python",
   "name": "python",
   "nbconvert_exporter": "python",
   "pygments_lexer": "ipython3",
   "version": "3.5.2"
  }
 },
 "nbformat": 4,
 "nbformat_minor": 1
}
