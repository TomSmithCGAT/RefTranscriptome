{
 "cells": [
  {
   "cell_type": "markdown",
   "metadata": {},
   "source": [
    "Test code to add incomplete models to a GTF"
   ]
  },
  {
   "cell_type": "code",
   "execution_count": 1,
   "metadata": {
    "collapsed": true
   },
   "outputs": [],
   "source": [
    "import CGAT.GTF as GTF\n",
    "import CGAT.IOTools as IOTools\n",
    "\n",
    "import copy \n",
    "import numpy as np\n",
    "\n",
    "import collections"
   ]
  },
  {
   "cell_type": "code",
   "execution_count": 32,
   "metadata": {
    "collapsed": false
   },
   "outputs": [],
   "source": [
    "class options_attr():\n",
    "    pass\n",
    "\n",
    "options = options_attr\n",
    "options.infile_gtf = '../../run/annotations/sequins.gtf.gz'\n",
    "options.outfile = 'test.gtf.gz'"
   ]
  },
  {
   "cell_type": "code",
   "execution_count": 44,
   "metadata": {
    "collapsed": false
   },
   "outputs": [],
   "source": [
    "ninput = 0\n",
    "nshort = 0\n",
    "\n",
    "options.fraction = 0.01\n",
    "\n",
    "transcript2exons = collections.defaultdict(set)\n",
    "\n",
    "gtfs = GTF.iterator(IOTools.openFile(options.infile_gtf))\n",
    "\n",
    "for gtf_lines in GTF.transcript_iterator(gtfs, strict=0):\n",
    "\n",
    "    if gtf_lines[0].feature == 'exon':\n",
    "        ninput += 1\n",
    "\n",
    "        transcript_id = gtf_lines[0].transcript_id\n",
    "\n",
    "        if len(gtf_lines)>4:\n",
    "            exon_number = 1\n",
    "            for exon in gtf_lines:\n",
    "                transcript2exons[transcript_id].add(exon_number)\n",
    "                exon_number += 1\n",
    "        else:\n",
    "            nshort += 1\n"
   ]
  },
  {
   "cell_type": "code",
   "execution_count": 84,
   "metadata": {
    "collapsed": false
   },
   "outputs": [],
   "source": [
    "# list with each transcript repeated for each available exon\n",
    "flat_transcripts = [t_id for t_id in transcript2exons.keys()\n",
    "                    for exon in list(transcript2exons[t_id])[:-2]]\n",
    "\n",
    "try:\n",
    "    skip_transcripts = list(\n",
    "        np.random.choice(flat_transcripts, int(ninput * options.fraction),\n",
    "                         replace=False))\n",
    "except ValueError as e:\n",
    "    raise ValueError('cannot ask for more skip exon additional '\n",
    "    'models than there are exons available: available exons=%i, '\n",
    "    'additional_models=%i.   numpy error: %s' % (\n",
    "        len(flat_transcripts),\n",
    "        int(ninput * options.fraction),\n",
    "        e))\n"
   ]
  },
  {
   "cell_type": "code",
   "execution_count": 87,
   "metadata": {
    "collapsed": false
   },
   "outputs": [
    {
     "name": "stdout",
     "output_type": "stream",
     "text": [
      "[1, 2, 3, 4, 5, 6, 7, 8, 9, 10, 11, 12, 13, 14, 15, 16, 17, 18, 19, 20, 21]\n",
      "[1, 2, 3, 4, 5, 6, 7, 8, 9, 10, 11, 12, 13, 14, 15, 16, 17, 18, 19, 20, 21, 22, 23]\n"
     ]
    }
   ],
   "source": [
    "print(list(transcript2exons[skip_transcripts[0]])[:-2])\n",
    "print(list(transcript2exons[skip_transcripts[0]]))"
   ]
  },
  {
   "cell_type": "code",
   "execution_count": 88,
   "metadata": {
    "collapsed": false
   },
   "outputs": [
    {
     "name": "stdout",
     "output_type": "stream",
     "text": [
      "['R1_33_1']\n"
     ]
    }
   ],
   "source": [
    "print(skip_transcripts)"
   ]
  },
  {
   "cell_type": "code",
   "execution_count": 90,
   "metadata": {
    "collapsed": false
   },
   "outputs": [
    {
     "name": "stdout",
     "output_type": "stream",
     "text": [
      "15\n",
      "[17, 18, 19, 20, 21, 22, 23]\n",
      "15 19\n"
     ]
    }
   ],
   "source": [
    "noutput = 0\n",
    "\n",
    "\n",
    "with IOTools.openFile(options.outfile, \"w\") as outf:\n",
    "    gtfs = GTF.iterator(IOTools.openFile(options.infile_gtf))\n",
    "\n",
    "    for gtf_lines in GTF.transcript_iterator(gtfs, strict=0):\n",
    "\n",
    "        if gtf_lines[0].feature == 'exon':\n",
    "\n",
    "            # write out every transcript_id already in gtf\n",
    "            noutput += 1\n",
    "\n",
    "            for gtf in gtf_lines:\n",
    "                outf.write(\"%s\\n\" % str(gtf))\n",
    "\n",
    "            # if transcript has been selected, remove an exon at\n",
    "            # random and output as a new transcript\n",
    "            transcript_id = gtf_lines[0].transcript_id\n",
    "\n",
    "            if transcript_id in skip_transcripts:\n",
    "\n",
    "                start_exons = np.random.choice(\n",
    "                    list(transcript2exons[transcript_id])[:-2], \n",
    "                    skip_transcripts.count(transcript_id),\n",
    "                    replace=False)\n",
    "\n",
    "                for start in start_exons:\n",
    "                    \n",
    "                    end = np.random.choice(\n",
    "                        list(transcript2exons[transcript_id])[start+1:])\n",
    "                    print(start)\n",
    "                    print(list(transcript2exons[transcript_id])[start+1:])\n",
    "                    print(start, end)\n",
    "                    \n",
    "                    noutput += 1\n",
    "\n",
    "                    transcript_id = gtf_lines[0].transcript_id\n",
    "\n",
    "                    new_transcript_id = \"%s_incomplete_%i_%i\" % (transcript_id, start, end)\n",
    "\n",
    "                    for ix, gtf in enumerate(gtf_lines):\n",
    "\n",
    "                        # we only want to include the eoxns between start and end\n",
    "                        if (ix + 1) >= start and (ix+1) <= end:\n",
    "\n",
    "                            gtf2 = copy.copy(gtf)\n",
    "                            gtf2.setAttribute('transcript_id', new_transcript_id)\n",
    "\n",
    "                            outf.write(\"%s\\n\" % str(gtf2))\n"
   ]
  }
 ],
 "metadata": {
  "anaconda-cloud": {},
  "kernelspec": {
   "display_name": "Python [conda root]",
   "language": "python",
   "name": "conda-root-py"
  },
  "language_info": {
   "codemirror_mode": {
    "name": "ipython",
    "version": 3
   },
   "file_extension": ".py",
   "mimetype": "text/x-python",
   "name": "python",
   "nbconvert_exporter": "python",
   "pygments_lexer": "ipython3",
   "version": "3.5.2"
  }
 },
 "nbformat": 4,
 "nbformat_minor": 1
}
