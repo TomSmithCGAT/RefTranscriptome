{
 "cells": [
  {
   "cell_type": "code",
   "execution_count": 21,
   "metadata": {
    "collapsed": true
   },
   "outputs": [],
   "source": [
    "seq_cgat = '''AAGGGGGAAGGGGGACTGGCGCGCGGCAAACCGGGGCGGCGACGAGGCCATTGACGCTCATTTCCTTCCTTTTGCCTCGGCGCCCCACCCAACCCATACACCCCCCCTCAGCGACCGCGGCTTCCGTTCTTGCAAAGGCCTATTCCAGGAGGTACCCATACCACAGCCAGTCCAGCACAACGAAACGGAGAGACCAAAGGGATGAGGAAAAGTGAGATAAATTCAGTCGACGGTTATTGAAAGAGAAAATCGAACGACAGATCCACATGATGGCTAACACTTATCCAACTCAGAAAGTGAGTGTAAAGAGGGCAACGGCGAAGGGTTAGAATGAACAACATGCCAGAAAGATTAAGAATGCGTAGAACTTGAATCGAGCGTATCTAAAGTAGAATACTTCGAAACTAGCGACTTAGGTGTTTGAGTACGCGAGTCTACAATAGAAGCAGCATGCGTTCCTGTTGGTAAGGGAGCTGGATGCTGATTCTGATGACTTTCGACTCCCCGGGTCGAGTTGTTTAAGGGAACTCGAGTACCCAGATAAGGCCAGAATGTTTAACTCTGAAGCTCTCGTCTGCTAAATAGCAATTGCGTCGCACAGTTTCGCAAATAACATATAAATCGACGGCTGGATCTCGTAGCACCAAGGTGCGAATTCATCAATGCTAACCTTAATTAGCTAAGAAAGAAGTGCAACAATCTCAGAGCTTTCTTTTTAGACACCCGAACCCGAACGTTTGTTTACCCTCAGCCTCGTGCCAGGCCTGCTCATCAATACTCCTAGATTCAGACAGGAATACAACGGTGGACCGAATATCGGTTAGGCTTGTCTGATTGTTTCTTTAGACCACTAATGGTAAGAGTCCAAAAATATAAAAATAATTTCCTGTTCGGAGTGAAAAGTAAATAGAGAAAGCTATGGAATGAAGAATTGAGTGAAACAGTCGAAACTGAGAAGGAACGGGATGAAGAAGAGTGAGCAATGATGAAGCAACTGGGGACAACGAGGAATGGTTTAGTACATCTGCCCCCTCGTGAAGCCGGGACGTCACAGGAGAAGATGTTCGTGCATAAGAAGGAATATTACAATATAATGGTAGGCGGGCTAGAAGTAATAACAAATTGTGGCTAAACCTCGGGCTAACCGGAACTTCCTACGTAAAAGGAAAAGTGAACAAGGAAAAATTAATGCAAATAAATTACGGACTTGGCGCAGTAAAAAAACAGGATATCAATCCAAAGAAATCGAACCTGTCGATCGACCAGAGGGATTTGTGCCATAAGAAATAGTAGCGAGAAAAAGTACAACGGAGAAAGAGAAAGGCAAACTACCGCAGTGACCGCGAAGCAGACTAAGGCGGGGATTAACTAGCTCTGAAGATCACCATGGGCTTAAGCCTCAGAAATCGGGAAACGGGGAAGAAAAGAAGAATTAGCAAGACTACCCCCAGACCAGACCGGTAATTCGGCTTCGTGGCTTTGACCGCGACATCGGTACAGGAAGGCCAGGGGGGGTGATGGGTGGGGGGGAGCGTGCACGAGCGGAAGGAAATATCTTATTAGCCACTAACGGTTGGTTATTGCTATGCCCCTTTCCGAGAAATGTTCGCGAAGTTGAGTAGCTTAGCTGGTCCAGT'''"
   ]
  },
  {
   "cell_type": "code",
   "execution_count": 5,
   "metadata": {
    "collapsed": false
   },
   "outputs": [],
   "source": [
    "seq_sequins ='''AAGGGGGAAGGGGGACTGGCGCGCGGCAAACCGGGGCGGCGACGAGGCCATTGACGCTCATTTCCTTCCTTTTGCCTCGGCGCCCCACCCAACCCATACACCCCCCCTCAGCGACCGCGGCTTCCGTTCTTGCAAAGGCCTATTCCAGGAGGTACCCATACCACAGCCAGTCCAGCACAACGAAACGGAGAGACCAAAGGGATGAGGAAAAGTGAGATAAATTCAGTCGACGGTTATTGAAAGAGAAAATCGAACGACAGATCCACATGATGGCTAACACTTATCCAACTCAGAAAGTGAGTGTAAAGAGGGCAACGGCGAAGGGTTAGAATGAACAACATGCCAGAAAGATTAAGAATGCGTAGAACTTGAATCGAGCGTATCTAAAGTAGAATACTTCGAAACTAGCGACTTAGGTGTTTGAGTACGCGAGTCTACAATAGAAGCAGCATGCGTTCCTGTTGGTAAGGGAGCTGGATGCTGATTCTGATGACTTTCGACTCCCCGGGTCGAGTTGTTTAAGGGAACTCGAGTACCCAGATAAGGCCAGAATGTTTAACTCTGAAGCTCTCGTCTGCTAAATAGCAATTGCGTCGCACAGTTTCGCAAATAACATATAAATCGACGGCTGGATCTCGTAGCACCAAGGTGCGATATCATCAATGCTAACCTTAATTAGCTAAGAAAGAAGTGCAACAATCTCAGAGCTTTCTTTTTAGACACCCGAACCCGAACGTTTGTTTACCCTCAGCCTCGTGCCAGGCCTGCTCATCAATACTCCTAGATTCAGACAGGAATACAACGGTGGACCGAATATCGGTTAGGCTTGTCTGATTGTTTCTTTAGACCACTAATGGTAAGAGTCCAAAAATATAAAAATAATTTCCTGTTCGGAGTGAAAAGTAAATAGAGAAAGCTATGGAATGAAGAATTGAGTGAAACAGTCGAAACTGAGAAGGAACGGGATGAAGAAGAGTGAGCAATGATGAAGCAACTGGGGACAACGAGGAATGGTTTAGTACATCTGCCCCCTCGTGAAGCCGGGACGTCACAGGAGAAGATGTTCGTGCATAAGAAGGAATATTACAATATAATGGTAGGCGGGCTAGAAGTAATAACAAATTGTGGCTAAACCTCGGGCTAACCGGAACTTCCTACGTAAAAGGAAAAGTGAACAAGGAAAAATTAATGCAAATAAATTACGGACTTGGCGCAGTAAAAAAACAGGATATCAATCCAAAGAAATCGAACCTGTCGATCGACCAGAGGGATTTGTGCCATAAGAAATAGTAGCGAGAAAAAGTACAACGGAGAAAGAGAAAGGCAAACTACCGCAGTGACCGCGAAGCAGACTAAGGCGGGGATTAACTAGCTCTGAAGATCACCATGGGCTATAGCCTCAGAAATCGGGAAACGGGGAAGAAAAGAAGAATTAGCAAGACTACCCCCAGACCAGACCGGTAATTCGGCTTCGTGGCTTTGACCGCGACATCGGTACAGGAAGGCCAGGGGGGGTGATGGGTGGGGGGGAGCGTGCACGAGCGGAAGGAAATATCTTATTAGCCACTAACGGTTGGTTATTGCTATGCCCCTTTCCGAGAAATGTTCGCGAAGTTGAGTAGCTTAGCTGGTCCAGT'''\n"
   ]
  },
  {
   "cell_type": "code",
   "execution_count": 1,
   "metadata": {
    "collapsed": false
   },
   "outputs": [
    {
     "name": "stdout",
     "output_type": "stream",
     "text": [
      "['144925-145141', '151619-151736', '234952-235060', '642810-642840', '834174-834288', '1379268-1379391', '1580733-1580767', '1649105-1649178', '2012075-2012156', '2035093-2035141', '2082605-2082668', '2086805-2086875', '2116883-2116960', '2136057-2136132', '2136396-2136489', '2190531-2190609', '2199163-2199400']\n"
     ]
    }
   ],
   "source": [
    "exons = '144925-145141;151619-151736;234952-235060;642810-642840;834174-834288;1379268-1379391;1580733-1580767;1649105-1649178;2012075-2012156;2035093-2035141;2082605-2082668;2086805-2086875;2116883-2116960;2136057-2136132;2136396-2136489;2190531-2190609;2199163-2199400'\n",
    "exons = exons.split(';')\n",
    "print(exons)"
   ]
  },
  {
   "cell_type": "code",
   "execution_count": 2,
   "metadata": {
    "collapsed": false
   },
   "outputs": [
    {
     "ename": "NameError",
     "evalue": "name 'seq_cgat' is not defined",
     "output_type": "error",
     "traceback": [
      "\u001b[0;31m---------------------------------------------------------------------------\u001b[0m",
      "\u001b[0;31mNameError\u001b[0m                                 Traceback (most recent call last)",
      "\u001b[0;32m<ipython-input-2-2cd09c6f1c46>\u001b[0m in \u001b[0;36m<module>\u001b[0;34m()\u001b[0m\n\u001b[0;32m----> 1\u001b[0;31m \u001b[0mprint\u001b[0m\u001b[0;34m(\u001b[0m\u001b[0mlen\u001b[0m\u001b[0;34m(\u001b[0m\u001b[0mseq_cgat\u001b[0m\u001b[0;34m)\u001b[0m\u001b[0;34m)\u001b[0m\u001b[0;34m\u001b[0m\u001b[0m\n\u001b[0m\u001b[1;32m      2\u001b[0m \u001b[0mprint\u001b[0m\u001b[0;34m(\u001b[0m\u001b[0mlen\u001b[0m\u001b[0;34m(\u001b[0m\u001b[0mseq_sequins\u001b[0m\u001b[0;34m)\u001b[0m\u001b[0;34m)\u001b[0m\u001b[0;34m\u001b[0m\u001b[0m\n\u001b[1;32m      3\u001b[0m \u001b[0;34m\u001b[0m\u001b[0m\n\u001b[1;32m      4\u001b[0m \u001b[0;32mfor\u001b[0m \u001b[0mix\u001b[0m \u001b[0;32min\u001b[0m \u001b[0mrange\u001b[0m\u001b[0;34m(\u001b[0m\u001b[0;36m0\u001b[0m\u001b[0;34m,\u001b[0m \u001b[0mlen\u001b[0m\u001b[0;34m(\u001b[0m\u001b[0mseq_cgat\u001b[0m\u001b[0;34m)\u001b[0m\u001b[0;34m)\u001b[0m\u001b[0;34m:\u001b[0m\u001b[0;34m\u001b[0m\u001b[0m\n\u001b[1;32m      5\u001b[0m     \u001b[0;32mif\u001b[0m \u001b[0mseq_cgat\u001b[0m\u001b[0;34m[\u001b[0m\u001b[0mix\u001b[0m\u001b[0;34m]\u001b[0m \u001b[0;34m!=\u001b[0m \u001b[0mseq_sequins\u001b[0m\u001b[0;34m[\u001b[0m\u001b[0mix\u001b[0m\u001b[0;34m]\u001b[0m\u001b[0;34m:\u001b[0m\u001b[0;34m\u001b[0m\u001b[0m\n",
      "\u001b[0;31mNameError\u001b[0m: name 'seq_cgat' is not defined"
     ]
    }
   ],
   "source": [
    "print(len(seq_cgat))\n",
    "print(len(seq_sequins))\n",
    "\n",
    "for ix in range(0, len(seq_cgat)):\n",
    "    if seq_cgat[ix] != seq_sequins[ix]:\n",
    "        print(ix)\n",
    "        print(seq_cgat[ix])\n",
    "        print(seq_sequins[ix])\n",
    "        break"
   ]
  },
  {
   "cell_type": "code",
   "execution_count": 29,
   "metadata": {
    "collapsed": false
   },
   "outputs": [
    {
     "name": "stdout",
     "output_type": "stream",
     "text": [
      "6 1379268 1379391 580 702\n"
     ]
    }
   ],
   "source": [
    "n = 0\n",
    "exon_n = 0\n",
    "for exon in exons:\n",
    "    exon_n += 1\n",
    "    start, stop = map(int, exon.split('-'))\n",
    "    if n + (stop - start - 1) > ix:\n",
    "        print(exon_n, start, stop, n, n + (stop - start - 1))\n",
    "        break\n",
    "    else:\n",
    "        n += (stop - start - 1)"
   ]
  },
  {
   "cell_type": "code",
   "execution_count": 27,
   "metadata": {
    "collapsed": true
   },
   "outputs": [],
   "source": [
    "import CGAT.IndexedFasta as IxFa\n",
    "\n"
   ]
  },
  {
   "cell_type": "code",
   "execution_count": 31,
   "metadata": {
    "collapsed": false
   },
   "outputs": [
    {
     "ename": "KeyError",
     "evalue": "'unknown database ../../run/annotations/sequins_contig.fa'",
     "output_type": "error",
     "traceback": [
      "\u001b[0;31m---------------------------------------------------------------------------\u001b[0m",
      "\u001b[0;31mKeyError\u001b[0m                                  Traceback (most recent call last)",
      "\u001b[0;32m<ipython-input-31-1d53add33501>\u001b[0m in \u001b[0;36m<module>\u001b[0;34m()\u001b[0m\n\u001b[0;32m----> 1\u001b[0;31m \u001b[0mfa\u001b[0m \u001b[0;34m=\u001b[0m \u001b[0mIxFa\u001b[0m\u001b[0;34m.\u001b[0m\u001b[0mCGATIndexedFasta\u001b[0m\u001b[0;34m(\u001b[0m\u001b[0;34m'../../run/annotations/sequins_contig.fa'\u001b[0m\u001b[0;34m)\u001b[0m\u001b[0;34m\u001b[0m\u001b[0m\n\u001b[0m",
      "\u001b[0;32m/home/FILESERVER5/proteomics/tss38/git_repos/cgat/CGAT/IndexedFasta.py\u001b[0m in \u001b[0;36m__init__\u001b[0;34m(self, dbname)\u001b[0m\n\u001b[1;32m    616\u001b[0m                 \u001b[0;32mbreak\u001b[0m\u001b[0;34m\u001b[0m\u001b[0m\n\u001b[1;32m    617\u001b[0m         \u001b[0;32melse\u001b[0m\u001b[0;34m:\u001b[0m\u001b[0;34m\u001b[0m\u001b[0m\n\u001b[0;32m--> 618\u001b[0;31m             \u001b[0;32mraise\u001b[0m \u001b[0mKeyError\u001b[0m\u001b[0;34m(\u001b[0m\u001b[0;34m\"unknown database %s\"\u001b[0m \u001b[0;34m%\u001b[0m \u001b[0mdbname\u001b[0m\u001b[0;34m)\u001b[0m\u001b[0;34m\u001b[0m\u001b[0m\n\u001b[0m\u001b[1;32m    619\u001b[0m \u001b[0;34m\u001b[0m\u001b[0m\n\u001b[1;32m    620\u001b[0m         \u001b[0mself\u001b[0m\u001b[0;34m.\u001b[0m\u001b[0mmIsLoaded\u001b[0m \u001b[0;34m=\u001b[0m \u001b[0;32mFalse\u001b[0m\u001b[0;34m\u001b[0m\u001b[0m\n",
      "\u001b[0;31mKeyError\u001b[0m: 'unknown database ../../run/annotations/sequins_contig.fa'"
     ]
    }
   ],
   "source": [
    "fa = IxFa.CGATIndexedFasta('../../run/annotations/sequins_contig.fa')"
   ]
  }
 ],
 "metadata": {
  "anaconda-cloud": {},
  "kernelspec": {
   "display_name": "Python [conda root]",
   "language": "python",
   "name": "conda-root-py"
  },
  "language_info": {
   "codemirror_mode": {
    "name": "ipython",
    "version": 3
   },
   "file_extension": ".py",
   "mimetype": "text/x-python",
   "name": "python",
   "nbconvert_exporter": "python",
   "pygments_lexer": "ipython3",
   "version": "3.5.2"
  }
 },
 "nbformat": 4,
 "nbformat_minor": 1
}
