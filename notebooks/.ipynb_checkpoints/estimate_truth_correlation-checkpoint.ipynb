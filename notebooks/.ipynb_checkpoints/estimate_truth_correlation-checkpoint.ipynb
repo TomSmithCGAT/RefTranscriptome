{
 "cells": [
  {
   "cell_type": "markdown",
   "metadata": {},
   "source": [
    "Test code to compare quantification estimates with ground truths"
   ]
  },
  {
   "cell_type": "code",
   "execution_count": 5,
   "metadata": {
    "collapsed": false
   },
   "outputs": [
    {
     "name": "stdout",
     "output_type": "stream",
     "text": [
      "The rpy2.ipython extension is already loaded. To reload it, use:\n",
      "  %reload_ext rpy2.ipython\n"
     ]
    }
   ],
   "source": [
    "import pandas as pd\n",
    "import glob\n",
    "import os\n",
    "%load_ext rpy2.ipython"
   ]
  },
  {
   "cell_type": "code",
   "execution_count": 118,
   "metadata": {
    "collapsed": false
   },
   "outputs": [
    {
     "name": "stdout",
     "output_type": "stream",
     "text": [
      "          Length_x        MXA  Length_y         MXB\n",
      "ID                                                 \n",
      "R1_101_1       719  11.329650       719    0.472075\n",
      "R1_101_2       430   3.776550       430    1.416225\n",
      "R1_102_1      1490  13.217925      1490    7.553100\n",
      "R1_102_2      1362   1.888275      1362   52.871700\n",
      "R1_103_1      1754  60.424806      1754  453.186000\n"
     ]
    }
   ],
   "source": [
    "concentrations_infile_A = '../../run/annotations/sequins_concentrations_A.tsv'\n",
    "concentrations_infile_B = '../../run/annotations/sequins_concentrations_B.tsv'\n",
    "\n",
    "conc_df_A = pd.read_table(concentrations_infile_A, index_col=0)\n",
    "conc_df_B = pd.read_table(concentrations_infile_B, index_col=0)\n",
    "\n",
    "conc_df = pd.merge(conc_df_A, conc_df_B, left_index=True, right_index=True)\n",
    "\n",
    "print(conc_df.head())"
   ]
  },
  {
   "cell_type": "code",
   "execution_count": null,
   "metadata": {
    "collapsed": true
   },
   "outputs": [],
   "source": []
  },
  {
   "cell_type": "code",
   "execution_count": 186,
   "metadata": {
    "collapsed": false
   },
   "outputs": [
    {
     "name": "stdout",
     "output_type": "stream",
     "text": [
      "['../../run/kallisto.dir/raw/neat-A/transcripts.tsv.gz', '../../run/kallisto.dir/raw/neat-B/transcripts.tsv.gz']\n"
     ]
    }
   ],
   "source": [
    "infiles = glob.glob('../../run/*/raw/*/transcripts.tsv.gz')\n",
    "print(infiles)"
   ]
  },
  {
   "cell_type": "code",
   "execution_count": 187,
   "metadata": {
    "collapsed": false
   },
   "outputs": [],
   "source": [
    "final_df = pd.DataFrame()\n",
    "\n",
    "sample2mix = {\n",
    "    'K562-1':'A',\n",
    "    'K562-2':'A',\n",
    "    'K562-3':'A',\n",
    "    'GM12878-1':'B',\n",
    "    'GM12878-2':'B',\n",
    "    'GM12878-3':'B',\n",
    "    'neat-A':'A',\n",
    "    'neat-B':'B'}\n",
    "\n",
    "for infile in infiles:\n",
    "    path_split = infile.split('/')\n",
    "    sample = path_split[-2]\n",
    "    mix = sample2mix[sample]\n",
    "    quantifier = path_split[-4][:-4]\n",
    "    tmp_df = pd.read_table(infile, index_col=0)\n",
    "    tmp_df = pd.merge(tmp_df, conc_df[['Length_x', 'MX%s' % mix]], left_index=True, right_index=True)\n",
    "    tmp_df.columns = ['Estimate', 'Length', 'Truth']\n",
    "    tmp_df['Quantifier'] = quantifier\n",
    "    tmp_df['Mix'] = mix\n",
    "    tmp_df['Type'] = sample.split('-')[0]\n",
    "    final_df = pd.concat([final_df, tmp_df])"
   ]
  },
  {
   "cell_type": "code",
   "execution_count": 188,
   "metadata": {
    "collapsed": false
   },
   "outputs": [
    {
     "name": "stdout",
     "output_type": "stream",
     "text": [
      "           Estimate  Length      Truth Quantifier Mix  Type\n",
      "R1_101_1    568.111     719  11.329650   kallisto   A  neat\n",
      "R1_101_2    107.889     430   3.776550   kallisto   A  neat\n",
      "R1_102_1    141.396    1490  13.217925   kallisto   A  neat\n",
      "R1_102_2   2047.600    1362   1.888275   kallisto   A  neat\n",
      "R1_103_1  16539.800    1754  60.424806   kallisto   A  neat\n",
      "(328, 6)\n",
      "          Estimate  Length      Truth Quantifier Mix  Type\n",
      "R1_101_1   568.111     719  11.329650   kallisto   A  neat\n",
      "R1_101_1   105.320     719   0.472075   kallisto   B  neat\n"
     ]
    }
   ],
   "source": [
    "print(final_df.head())\n",
    "print(final_df.shape)\n",
    "print(final_df.ix['R1_101_1'])"
   ]
  },
  {
   "cell_type": "code",
   "execution_count": 189,
   "metadata": {
    "collapsed": true
   },
   "outputs": [],
   "source": [
    "%%R -i final_df\n",
    "library(ggplot2)"
   ]
  },
  {
   "cell_type": "code",
   "execution_count": 190,
   "metadata": {
    "collapsed": false
   },
   "outputs": [
    {
     "data": {
      "image/png": "[encoded data removed]"
     },
     "metadata": {},
     "output_type": "display_data"
    }
   ],
   "source": [
    "%%R\n",
    "for (type in unique(final_df$Type)){\n",
    "    p = ggplot(final_df[final_df$Type == type,], aes(log(Truth+0.1,10), log(Estimate+0.1,10))) +\n",
    "    geom_point() +\n",
    "    facet_grid(Mix~Quantifier) +\n",
    "    theme_bw() + \n",
    "    ggtitle(type)\n",
    "    print(p)\n",
    "}"
   ]
  }
 ],
 "metadata": {
  "kernelspec": {
   "display_name": "Python [conda root]",
   "language": "python",
   "name": "conda-root-py"
  },
  "language_info": {
   "codemirror_mode": {
    "name": "ipython",
    "version": 3
   },
   "file_extension": ".py",
   "mimetype": "text/x-python",
   "name": "python",
   "nbconvert_exporter": "python",
   "pygments_lexer": "ipython3",
   "version": "3.5.2"
  }
 },
 "nbformat": 4,
 "nbformat_minor": 1
}
