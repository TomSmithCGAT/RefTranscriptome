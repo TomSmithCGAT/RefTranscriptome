{
 "cells": [
  {
   "cell_type": "markdown",
   "metadata": {},
   "source": [
    "Test code to add skipped exons to a GTF"
   ]
  },
  {
   "cell_type": "code",
   "execution_count": 100,
   "metadata": {
    "collapsed": true
   },
   "outputs": [],
   "source": [
    "import CGAT.GTF as GTF\n",
    "import CGAT.IOTools as IOTools\n",
    "\n",
    "import copy \n",
    "import numpy as np\n",
    "\n",
    "import collections"
   ]
  },
  {
   "cell_type": "code",
   "execution_count": 5,
   "metadata": {
    "collapsed": true
   },
   "outputs": [],
   "source": [
    "infile = '../../run/annotations/sequins.gtf.gz'\n",
    "outfile = 'test.gtf.gz'"
   ]
  },
  {
   "cell_type": "code",
   "execution_count": 93,
   "metadata": {
    "collapsed": false
   },
   "outputs": [],
   "source": [
    "fraction = 1\n",
    "\n",
    "transcript2exonCounts = {}\n",
    "\n",
    "gtfs = GTF.iterator(IOTools.openFile(infile))\n",
    "for gtf_lines in GTF.transcript_iterator(gtfs, strict=0):\n",
    "    if gtf_lines[0].feature == 'exon':\n",
    "        transcript_id = gtf_lines[0].transcript_id\n",
    "        if len(gtf_lines)>2:\n",
    "            transcript2exonCounts[transcript_id] = len(gtf_lines)\n",
    "\n",
    "number_transcripts = len(transcript2exonCounts)\n",
    "\n",
    "skip_transcripts = list(np.random.choice(\n",
    "        list(transcript2exonCounts.keys()),\n",
    "        size=int(number_transcripts * fraction), replace=True))\n",
    "\n",
    "with IOTools.openFile(outfile, 'w') as outf:\n",
    "    gtfs = GTF.iterator(IOTools.openFile(infile))\n",
    "    for gtf_lines in GTF.transcript_iterator(gtfs, strict=0):\n",
    "        if gtf_lines[0].feature == 'exon':\n",
    "            \n",
    "            # write out every transcript_id already in gtf\n",
    "            for gtf in gtf_lines:\n",
    "                outf.write(\"%s\\n\" % str(gtf))\n",
    "            \n",
    "            # if transcript has been selected, remove an exon at random and output as a new transcript\n",
    "            transcript_id = gtf_lines[0].transcript_id\n",
    "            if transcript_id in skip_transcripts:\n",
    "                for repeat in range(0, skip_transcripts.count(transcript_id)):\n",
    "                    transcript_id = gtf_lines[0].transcript_id\n",
    "\n",
    "                    # don't want to remove first or last exon\n",
    "                    remove_exon = np.random.choice(\n",
    "                        transcript2exonCounts[transcript_id] - 2, 1)\n",
    "\n",
    "                    new_transcript_id = \"%s_skipped_%i\" % (transcript_id, repeat)\n",
    "                    for ix, gtf in enumerate(gtf_lines):\n",
    "                        if ix != remove_exon:\n",
    "                            gtf2 = copy.copy(gtf)\n",
    "                            gtf2.setAttribute('transcript_id', new_transcript_id)\n",
    "                            outf.write(\"%s\\n\" % str(gtf2))"
   ]
  },
  {
   "cell_type": "code",
   "execution_count": 96,
   "metadata": {
    "collapsed": false
   },
   "outputs": [],
   "source": [
    "transcript2exons = {}\n",
    "transcript2exons['a'] = set((1,2,3,4))\n",
    "transcript2exons['b'] = set((1,2,3,4))"
   ]
  },
  {
   "cell_type": "code",
   "execution_count": 97,
   "metadata": {
    "collapsed": false
   },
   "outputs": [
    {
     "name": "stdout",
     "output_type": "stream",
     "text": [
      "['a', 'a', 'a', 'a', 'b', 'b', 'b', 'b']\n"
     ]
    }
   ],
   "source": [
    "print(                    [t_id for t_id in transcript2exons.keys()\n",
    "                     for exon in transcript2exons[t_id]])"
   ]
  },
  {
   "cell_type": "code",
   "execution_count": 99,
   "metadata": {
    "collapsed": false
   },
   "outputs": [
    {
     "ename": "NameError",
     "evalue": "name 'collections' is not defined",
     "output_type": "error",
     "traceback": [
      "\u001b[0;31m---------------------------------------------------------------------------\u001b[0m",
      "\u001b[0;31mNameError\u001b[0m                                 Traceback (most recent call last)",
      "\u001b[0;32m<ipython-input-99-83badf620ce3>\u001b[0m in \u001b[0;36m<module>\u001b[0;34m()\u001b[0m\n\u001b[0;32m----> 1\u001b[0;31m \u001b[0mtranscript2exons\u001b[0m \u001b[0;34m=\u001b[0m \u001b[0mcollections\u001b[0m\u001b[0;34m.\u001b[0m\u001b[0mdefaultdict\u001b[0m\u001b[0;34m(\u001b[0m\u001b[0mset\u001b[0m\u001b[0;34m)\u001b[0m\u001b[0;34m\u001b[0m\u001b[0m\n\u001b[0m\u001b[1;32m      2\u001b[0m \u001b[0;34m\u001b[0m\u001b[0m\n\u001b[1;32m      3\u001b[0m \u001b[0mgtfs\u001b[0m \u001b[0;34m=\u001b[0m \u001b[0mGTF\u001b[0m\u001b[0;34m.\u001b[0m\u001b[0miterator\u001b[0m\u001b[0;34m(\u001b[0m\u001b[0mIOTools\u001b[0m\u001b[0;34m.\u001b[0m\u001b[0mopenFile\u001b[0m\u001b[0;34m(\u001b[0m\u001b[0minfile_gtf\u001b[0m\u001b[0;34m)\u001b[0m\u001b[0;34m)\u001b[0m\u001b[0;34m\u001b[0m\u001b[0m\n\u001b[1;32m      4\u001b[0m \u001b[0;34m\u001b[0m\u001b[0m\n\u001b[1;32m      5\u001b[0m \u001b[0;32mfor\u001b[0m \u001b[0mgtf_lines\u001b[0m \u001b[0;32min\u001b[0m \u001b[0mGTF\u001b[0m\u001b[0;34m.\u001b[0m\u001b[0mtranscript_iterator\u001b[0m\u001b[0;34m(\u001b[0m\u001b[0mgtfs\u001b[0m\u001b[0;34m,\u001b[0m \u001b[0mstrict\u001b[0m\u001b[0;34m=\u001b[0m\u001b[0;36m0\u001b[0m\u001b[0;34m)\u001b[0m\u001b[0;34m:\u001b[0m\u001b[0;34m\u001b[0m\u001b[0m\n",
      "\u001b[0;31mNameError\u001b[0m: name 'collections' is not defined"
     ]
    }
   ],
   "source": [
    "transcript2exons = collections.defaultdict(set)\n",
    "\n",
    "gtfs = GTF.iterator(IOTools.openFile(infile_gtf))\n",
    "\n",
    "for gtf_lines in GTF.transcript_iterator(gtfs, strict=0):\n",
    "\n",
    "    if gtf_lines[0].feature == 'exon':\n",
    "        ninput += 1\n",
    "\n",
    "        transcript_id = gtf_lines[0].transcript_id\n",
    "\n",
    "        if len(gtf_lines)>2:\n",
    "            exon_number = 2\n",
    "            for exon in gtf_lines[1:-1]:\n",
    "                transcript2exons[transcript_id].add(exon_number)\n",
    "                exon_number += 1\n",
    "        else:\n",
    "            nshort += 1\n"
   ]
  },
  {
   "cell_type": "code",
   "execution_count": null,
   "metadata": {
    "collapsed": true
   },
   "outputs": [],
   "source": []
  }
 ],
 "metadata": {
  "anaconda-cloud": {},
  "kernelspec": {
   "display_name": "Python [conda root]",
   "language": "python",
   "name": "conda-root-py"
  }
 },
 "nbformat": 4,
 "nbformat_minor": 1
}
